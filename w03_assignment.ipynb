{
 "cells": [
  {
   "cell_type": "markdown",
   "id": "57b208d4-57c3-498d-8a40-441c6b41646d",
   "metadata": {},
   "source": [
    "## Assignment\n",
    "\n",
    "The task is to build and train a classifier given a labeled dataset and then use it to infer the labels of a given unlabeled evaluation dataset. \n",
    "\n",
    "You will find the training and evaluation data on canvas.\n",
    "\n",
    "Here's the training data: TrainOnMe-2.csv \n",
    "\n",
    "Here's the evaluation data: EvaluateOnMe-2.csv \n",
    "\n",
    "Here's the ground truth: EvaluationGT-2.csv\n",
    "\n",
    "You can use whatever python libraries you like! The steps below are suggestions, but feel free to try any other techniques we discussed in class.\n",
    "\n",
    "You can submit the predicted labels by uploading them in csv format, which will then be compared to the ground truth.\n"
   ]
  },
  {
   "cell_type": "code",
   "execution_count": 365,
   "id": "0e3cf9a5",
   "metadata": {
    "code_folding": [
     0
    ]
   },
   "outputs": [],
   "source": [
    "# Import packages \n",
    "import pandas as pd\n",
    "import numpy as np\n",
    "import scipy.stats as stats\n",
    "import matplotlib.pyplot as plt\n",
    "import seaborn as sns\n",
    "\n",
    "from sklearn.model_selection import train_test_split\n",
    "from sklearn.model_selection import cross_val_score\n",
    "\n",
    "# For feature selection\n",
    "from sklearn.feature_selection import SelectKBest\n",
    "from sklearn.feature_selection import chi2\n",
    "\n",
    "# For min-max scaling\n",
    "from sklearn.preprocessing import MinMaxScaler\n",
    "\n",
    "# For encoding\n",
    "from sklearn.preprocessing import LabelEncoder\n",
    "from sklearn.preprocessing import OneHotEncoder\n",
    "\n",
    "# Some models you can try\n",
    "from sklearn.svm import SVC\n",
    "from sklearn.tree import DecisionTreeClassifier\n",
    "from sklearn.ensemble import ExtraTreesClassifier\n",
    "from sklearn.ensemble import RandomForestClassifier\n"
   ]
  },
  {
   "cell_type": "markdown",
   "id": "06aeca27-8629-4941-86c1-2d78c66ac582",
   "metadata": {},
   "source": [
    "## Load the training and evaluation datasets"
   ]
  },
  {
   "cell_type": "code",
   "execution_count": 366,
   "id": "c25826ba",
   "metadata": {
    "scrolled": true
   },
   "outputs": [
    {
     "name": "stdout",
     "output_type": "stream",
     "text": [
      "<class 'pandas.core.frame.DataFrame'>\n",
      "RangeIndex: 1004 entries, 0 to 1003\n",
      "Data columns (total 14 columns):\n",
      " #   Column  Non-Null Count  Dtype  \n",
      "---  ------  --------------  -----  \n",
      " 0   y       997 non-null    object \n",
      " 1   x1      1000 non-null   float64\n",
      " 2   x2      1000 non-null   float64\n",
      " 3   x3      1000 non-null   float64\n",
      " 4   x4      1000 non-null   float64\n",
      " 5   x5      1000 non-null   float64\n",
      " 6   x6      1000 non-null   object \n",
      " 7   x7      1000 non-null   object \n",
      " 8   x8      1000 non-null   float64\n",
      " 9   x9      1000 non-null   float64\n",
      " 10  x10     1000 non-null   float64\n",
      " 11  x11     1000 non-null   float64\n",
      " 12  x12     1000 non-null   object \n",
      " 13  x13     1000 non-null   float64\n",
      "dtypes: float64(10), object(4)\n",
      "memory usage: 109.9+ KB\n"
     ]
    }
   ],
   "source": [
    "# Read datasets\n",
    "df = pd.read_csv('TrainOnMe-2.csv').iloc[:, 1:]\n",
    "eval_df = pd.read_csv('EvaluateOnMe-2.csv').iloc[:, 1:]\n",
    "\n",
    "# Split your training dataset into features and labels\n",
    "#X = df.iloc[:, 1:]\n",
    "#y = df['y']\n",
    "\n",
    "#df_null_idx = df.isnull().any(axis=1)\n",
    "#print(len(df_null_idx))\n",
    "#X.loc[134]\n",
    "df.info()\n",
    "\n"
   ]
  },
  {
   "cell_type": "markdown",
   "id": "99fc8de1-a994-4756-9989-d3f4b0de1f0d",
   "metadata": {},
   "source": [
    "## Data pre-processing"
   ]
  },
  {
   "cell_type": "code",
   "execution_count": 367,
   "id": "4c95776a-27af-4777-8128-a1e9abf94a59",
   "metadata": {},
   "outputs": [
    {
     "name": "stdout",
     "output_type": "stream",
     "text": [
      "number of null entries:  0\n",
      "y category list:  ['Atsuto' 'Bob' 'Jorg' 'Shoogee']\n",
      "x7 category list:  ['Erik Sven Fernström' 'Erik Sven Williams' 'Jerry Fernström'\n",
      " 'Jerry Williams' 'Jerry från Solna']\n",
      "x12 category list:  [False True]\n",
      "<class 'pandas.core.frame.DataFrame'>\n",
      "RangeIndex: 995 entries, 0 to 994\n",
      "Data columns (total 14 columns):\n",
      " #   Column  Non-Null Count  Dtype  \n",
      "---  ------  --------------  -----  \n",
      " 0   y       995 non-null    int64  \n",
      " 1   x1      995 non-null    float64\n",
      " 2   x2      995 non-null    float64\n",
      " 3   x3      995 non-null    float64\n",
      " 4   x4      995 non-null    float64\n",
      " 5   x5      995 non-null    float64\n",
      " 6   x6      995 non-null    float64\n",
      " 7   x7      995 non-null    int64  \n",
      " 8   x8      995 non-null    float64\n",
      " 9   x9      995 non-null    float64\n",
      " 10  x10     995 non-null    float64\n",
      " 11  x11     995 non-null    float64\n",
      " 12  x12     995 non-null    int64  \n",
      " 13  x13     995 non-null    float64\n",
      "dtypes: float64(11), int64(3)\n",
      "memory usage: 109.0 KB\n"
     ]
    }
   ],
   "source": [
    "# Do some data pre-processing\n",
    "# Remove NA values and noise\n",
    "# Check the dtypes of all features\n",
    "# Convert text columns to category\n",
    "# Change categories to encoded labels using LabelEncoder()\n",
    "\n",
    "\n",
    "\n",
    "num_cols = ['x1', 'x2', 'x3', 'x4', 'x5', 'x6', 'x8', 'x9', 'x10', 'x11', 'x13']\n",
    "cat_cols = ['y', 'x7', 'x12']\n",
    "\n",
    "#print(num_cols)\n",
    "\n",
    "for i, col in enumerate(num_cols):\n",
    "    df[col] = pd.to_numeric(df[col], errors='coerce')\n",
    "\n",
    "df.dropna(inplace=True)\n",
    "\n",
    "y_encoder = LabelEncoder()\n",
    "df['y']= y_encoder.fit_transform(df['y'])\n",
    "y_cats = y_encoder.classes_\n",
    "\n",
    "x7_encoder = LabelEncoder()\n",
    "df['x7'] = x7_encoder.fit_transform(df['x7'])\n",
    "x7_cats = x7_encoder.classes_\n",
    "\n",
    "x12_encoder = LabelEncoder()\n",
    "df['x12'] = x12_encoder.fit_transform(df['x12'])\n",
    "x12_cats = x12_encoder.classes_\n",
    "\n",
    "df.reset_index(drop=True, inplace=True)\n",
    "\n",
    "X = df.iloc[:, 1:]\n",
    "y = df['y']\n",
    "\n",
    "X_null_idx = df[df.isnull().any(axis=1)].index\n",
    "print(\"number of null entries: \", len(X_null_idx))\n",
    "print(\"y category list: \", y_cats)\n",
    "print(\"x7 category list: \", x7_cats)\n",
    "print(\"x12 category list: \", x12_cats)\n",
    "df.info()"
   ]
  },
  {
   "cell_type": "markdown",
   "id": "d5ad60bf-a533-4340-aabb-3d7a5c466e61",
   "metadata": {
    "code_folding": [
     0
    ]
   },
   "source": [
    "## Dealing with outliers"
   ]
  },
  {
   "cell_type": "code",
   "execution_count": 368,
   "id": "6ccf3fb4",
   "metadata": {},
   "outputs": [
    {
     "name": "stdout",
     "output_type": "stream",
     "text": [
      "-90000000.35933\n",
      "[842]\n",
      "[ 55  64 145 219 249 267 279 343 399 450 453 489 525 538 567 604 609 775\n",
      " 804 842 874 903 928]\n",
      "x1     1.896880e+00\n",
      "x2     6.781300e-01\n",
      "x3    -1.389890e+00\n",
      "x4    -9.000000e+07\n",
      "x5     1.035667e+01\n",
      "x6     8.733600e-01\n",
      "x7     2.000000e+00\n",
      "x8     1.240070e+00\n",
      "x9    -2.378380e+00\n",
      "x10   -7.605720e+00\n",
      "x11   -2.107290e+00\n",
      "x12    0.000000e+00\n",
      "x13    9.414893e+01\n",
      "Name: 842, dtype: float64\n"
     ]
    }
   ],
   "source": [
    "# Try to remove outliers from training data to improve performance\n",
    "# There are different ways to do this but one way could be to use stats.zscore\n",
    "\n",
    "\n",
    "z_scores = np.abs(stats.zscore(df[num_cols], axis=0))\n",
    "\n",
    "\n",
    "#combined_z_scores = pd.Series(np.linalg.norm(z_scores, axis=1))\n",
    "#combined_z_scores.describe()\n",
    "outliers = np.where(z_scores > 3)[0]\n",
    "#print(type(outliers))\n",
    "#print(outliers.shape)\n",
    "outlier_indices = np.unique(outliers)\n",
    "#z_scores['x4'].describe()\n",
    "print(np.min(df['x4']))\n",
    "bitch = np.where(df['x4'] < -900000)[0]\n",
    "print(bitch)\n",
    "\n",
    "#print(z_scores.iloc[, :])\n",
    "\n",
    "print(outlier_indices)\n",
    "\n",
    "print(X.iloc[842, :])\n",
    "\n",
    "#df = df[z_scores < 6]\n",
    "#outlier_inds = np.where(np.abs(combined_z_scores) > 3)[0]\n",
    "\n",
    "\n",
    "#X.drop(outlier_inds)\n",
    "#y.drop(outlier_inds)"
   ]
  },
  {
   "cell_type": "code",
   "execution_count": 369,
   "id": "eac2681b",
   "metadata": {},
   "outputs": [],
   "source": [
    "#std_coeff = 1.96\n",
    "#zscore_mean = np.mean(combined_z_scores)\n",
    "#zscore_std = np.std(combined_z_scores)\n",
    "#thresh = zscore_mean + std_coeff*zscore_std\n",
    "#outlier_inds = np.where(np.abs(combined_z_scores) > 4)[0]\n",
    "#\n",
    "#print(combined_z_scores[outlier_inds])"
   ]
  },
  {
   "cell_type": "code",
   "execution_count": 370,
   "id": "435be968",
   "metadata": {},
   "outputs": [
    {
     "name": "stdout",
     "output_type": "stream",
     "text": [
      "x1     -1.73821\n",
      "x2     -2.05038\n",
      "x3    -10.60992\n",
      "x4    -10.16991\n",
      "x5      9.78143\n",
      "x6     -2.02696\n",
      "x7      0.00000\n",
      "x8     -3.41003\n",
      "x9     -3.68549\n",
      "x10   -13.26419\n",
      "x11    -6.00052\n",
      "x12     0.00000\n",
      "x13   -87.16365\n",
      "dtype: float64\n",
      "<class 'pandas.core.frame.DataFrame'>\n",
      "Index: 972 entries, 0 to 994\n",
      "Data columns (total 13 columns):\n",
      " #   Column  Non-Null Count  Dtype  \n",
      "---  ------  --------------  -----  \n",
      " 0   x1      972 non-null    float64\n",
      " 1   x2      972 non-null    float64\n",
      " 2   x3      972 non-null    float64\n",
      " 3   x4      972 non-null    float64\n",
      " 4   x5      972 non-null    float64\n",
      " 5   x6      972 non-null    float64\n",
      " 6   x7      972 non-null    int64  \n",
      " 7   x8      972 non-null    float64\n",
      " 8   x9      972 non-null    float64\n",
      " 9   x10     972 non-null    float64\n",
      " 10  x11     972 non-null    float64\n",
      " 11  x12     972 non-null    int64  \n",
      " 12  x13     972 non-null    float64\n",
      "dtypes: float64(11), int64(2)\n",
      "memory usage: 106.3 KB\n"
     ]
    }
   ],
   "source": [
    "X.drop(index=outlier_indices, inplace=True)\n",
    "y.drop(index=outlier_indices, inplace=True)\n",
    "\n",
    "\n",
    "print(np.min(X, axis=0))\n",
    "X.info()"
   ]
  },
  {
   "cell_type": "code",
   "execution_count": 371,
   "id": "d380603a",
   "metadata": {},
   "outputs": [
    {
     "data": {
      "text/html": [
       "<div>\n",
       "<style scoped>\n",
       "    .dataframe tbody tr th:only-of-type {\n",
       "        vertical-align: middle;\n",
       "    }\n",
       "\n",
       "    .dataframe tbody tr th {\n",
       "        vertical-align: top;\n",
       "    }\n",
       "\n",
       "    .dataframe thead th {\n",
       "        text-align: right;\n",
       "    }\n",
       "</style>\n",
       "<table border=\"1\" class=\"dataframe\">\n",
       "  <thead>\n",
       "    <tr style=\"text-align: right;\">\n",
       "      <th></th>\n",
       "      <th>x1</th>\n",
       "      <th>x2</th>\n",
       "      <th>x3</th>\n",
       "      <th>x4</th>\n",
       "      <th>x5</th>\n",
       "      <th>x6</th>\n",
       "      <th>x7</th>\n",
       "      <th>x8</th>\n",
       "      <th>x9</th>\n",
       "      <th>x10</th>\n",
       "      <th>x11</th>\n",
       "      <th>x12</th>\n",
       "      <th>x13</th>\n",
       "    </tr>\n",
       "  </thead>\n",
       "  <tbody>\n",
       "    <tr>\n",
       "      <th>0</th>\n",
       "      <td>2.20274</td>\n",
       "      <td>-0.04690</td>\n",
       "      <td>-4.69816</td>\n",
       "      <td>-9.07800</td>\n",
       "      <td>10.13118</td>\n",
       "      <td>-0.08900</td>\n",
       "      <td>1</td>\n",
       "      <td>0.54191</td>\n",
       "      <td>0.52041</td>\n",
       "      <td>-5.66990</td>\n",
       "      <td>-0.93831</td>\n",
       "      <td>0</td>\n",
       "      <td>107.78776</td>\n",
       "    </tr>\n",
       "    <tr>\n",
       "      <th>1</th>\n",
       "      <td>2.01516</td>\n",
       "      <td>-0.12177</td>\n",
       "      <td>-4.24286</td>\n",
       "      <td>-9.79772</td>\n",
       "      <td>9.98259</td>\n",
       "      <td>-0.01485</td>\n",
       "      <td>1</td>\n",
       "      <td>-1.21671</td>\n",
       "      <td>1.18749</td>\n",
       "      <td>-9.25300</td>\n",
       "      <td>-1.21892</td>\n",
       "      <td>0</td>\n",
       "      <td>98.63633</td>\n",
       "    </tr>\n",
       "    <tr>\n",
       "      <th>2</th>\n",
       "      <td>0.02598</td>\n",
       "      <td>-0.24764</td>\n",
       "      <td>0.39977</td>\n",
       "      <td>-9.54167</td>\n",
       "      <td>10.53391</td>\n",
       "      <td>-0.27978</td>\n",
       "      <td>1</td>\n",
       "      <td>-2.39764</td>\n",
       "      <td>1.95167</td>\n",
       "      <td>-9.46447</td>\n",
       "      <td>-2.68910</td>\n",
       "      <td>1</td>\n",
       "      <td>1.49880</td>\n",
       "    </tr>\n",
       "    <tr>\n",
       "      <th>3</th>\n",
       "      <td>0.39778</td>\n",
       "      <td>-0.83343</td>\n",
       "      <td>-2.14272</td>\n",
       "      <td>-9.06550</td>\n",
       "      <td>10.15047</td>\n",
       "      <td>-0.84583</td>\n",
       "      <td>4</td>\n",
       "      <td>0.09768</td>\n",
       "      <td>0.92010</td>\n",
       "      <td>-11.17952</td>\n",
       "      <td>0.59877</td>\n",
       "      <td>0</td>\n",
       "      <td>18.81785</td>\n",
       "    </tr>\n",
       "    <tr>\n",
       "      <th>4</th>\n",
       "      <td>1.25346</td>\n",
       "      <td>0.09320</td>\n",
       "      <td>1.54063</td>\n",
       "      <td>-9.33171</td>\n",
       "      <td>9.92016</td>\n",
       "      <td>0.09889</td>\n",
       "      <td>2</td>\n",
       "      <td>-0.46134</td>\n",
       "      <td>0.16381</td>\n",
       "      <td>-12.07755</td>\n",
       "      <td>1.09106</td>\n",
       "      <td>1</td>\n",
       "      <td>63.44326</td>\n",
       "    </tr>\n",
       "  </tbody>\n",
       "</table>\n",
       "</div>"
      ],
      "text/plain": [
       "        x1       x2       x3       x4        x5       x6  x7       x8  \\\n",
       "0  2.20274 -0.04690 -4.69816 -9.07800  10.13118 -0.08900   1  0.54191   \n",
       "1  2.01516 -0.12177 -4.24286 -9.79772   9.98259 -0.01485   1 -1.21671   \n",
       "2  0.02598 -0.24764  0.39977 -9.54167  10.53391 -0.27978   1 -2.39764   \n",
       "3  0.39778 -0.83343 -2.14272 -9.06550  10.15047 -0.84583   4  0.09768   \n",
       "4  1.25346  0.09320  1.54063 -9.33171   9.92016  0.09889   2 -0.46134   \n",
       "\n",
       "        x9       x10      x11  x12        x13  \n",
       "0  0.52041  -5.66990 -0.93831    0  107.78776  \n",
       "1  1.18749  -9.25300 -1.21892    0   98.63633  \n",
       "2  1.95167  -9.46447 -2.68910    1    1.49880  \n",
       "3  0.92010 -11.17952  0.59877    0   18.81785  \n",
       "4  0.16381 -12.07755  1.09106    1   63.44326  "
      ]
     },
     "execution_count": 371,
     "metadata": {},
     "output_type": "execute_result"
    }
   ],
   "source": [
    "X.head()"
   ]
  },
  {
   "cell_type": "markdown",
   "id": "a933a70d-7f5c-46cf-b278-536053c42322",
   "metadata": {},
   "source": [
    "## Scaling the features"
   ]
  },
  {
   "cell_type": "code",
   "execution_count": 372,
   "id": "7a5a446b",
   "metadata": {},
   "outputs": [
    {
     "name": "stdout",
     "output_type": "stream",
     "text": [
      "-8.2922\n",
      "-10.16991\n",
      "-9.175795\n",
      "count    972.000000\n",
      "mean      -9.187813\n",
      "std        0.383982\n",
      "min      -10.169910\n",
      "25%       -9.468750\n",
      "50%       -9.175795\n",
      "75%       -8.915192\n",
      "max       -8.292200\n",
      "Name: x4, dtype: float64\n",
      "0\n",
      "(972, 13)\n",
      "(972,)\n"
     ]
    },
    {
     "data": {
      "text/html": [
       "<div>\n",
       "<style scoped>\n",
       "    .dataframe tbody tr th:only-of-type {\n",
       "        vertical-align: middle;\n",
       "    }\n",
       "\n",
       "    .dataframe tbody tr th {\n",
       "        vertical-align: top;\n",
       "    }\n",
       "\n",
       "    .dataframe thead th {\n",
       "        text-align: right;\n",
       "    }\n",
       "</style>\n",
       "<table border=\"1\" class=\"dataframe\">\n",
       "  <thead>\n",
       "    <tr style=\"text-align: right;\">\n",
       "      <th></th>\n",
       "      <th>x1</th>\n",
       "      <th>x2</th>\n",
       "      <th>x3</th>\n",
       "      <th>x4</th>\n",
       "      <th>x5</th>\n",
       "      <th>x6</th>\n",
       "      <th>x7</th>\n",
       "      <th>x8</th>\n",
       "      <th>x9</th>\n",
       "      <th>x10</th>\n",
       "      <th>x11</th>\n",
       "      <th>x12</th>\n",
       "      <th>x13</th>\n",
       "    </tr>\n",
       "  </thead>\n",
       "  <tbody>\n",
       "    <tr>\n",
       "      <th>0</th>\n",
       "      <td>0.726424</td>\n",
       "      <td>0.510547</td>\n",
       "      <td>0.311269</td>\n",
       "      <td>0.581512</td>\n",
       "      <td>0.288689</td>\n",
       "      <td>0.487385</td>\n",
       "      <td>1</td>\n",
       "      <td>0.559048</td>\n",
       "      <td>0.539837</td>\n",
       "      <td>0.866377</td>\n",
       "      <td>0.395649</td>\n",
       "      <td>0</td>\n",
       "      <td>0.722285</td>\n",
       "    </tr>\n",
       "    <tr>\n",
       "      <th>1</th>\n",
       "      <td>0.691848</td>\n",
       "      <td>0.491468</td>\n",
       "      <td>0.335242</td>\n",
       "      <td>0.198215</td>\n",
       "      <td>0.166041</td>\n",
       "      <td>0.506033</td>\n",
       "      <td>1</td>\n",
       "      <td>0.310271</td>\n",
       "      <td>0.625458</td>\n",
       "      <td>0.457607</td>\n",
       "      <td>0.373717</td>\n",
       "      <td>0</td>\n",
       "      <td>0.688380</td>\n",
       "    </tr>\n",
       "    <tr>\n",
       "      <th>2</th>\n",
       "      <td>0.325188</td>\n",
       "      <td>0.459393</td>\n",
       "      <td>0.579688</td>\n",
       "      <td>0.334578</td>\n",
       "      <td>0.621109</td>\n",
       "      <td>0.439405</td>\n",
       "      <td>1</td>\n",
       "      <td>0.143214</td>\n",
       "      <td>0.723542</td>\n",
       "      <td>0.433482</td>\n",
       "      <td>0.258812</td>\n",
       "      <td>1</td>\n",
       "      <td>0.328490</td>\n",
       "    </tr>\n",
       "    <tr>\n",
       "      <th>3</th>\n",
       "      <td>0.393721</td>\n",
       "      <td>0.310116</td>\n",
       "      <td>0.445820</td>\n",
       "      <td>0.588169</td>\n",
       "      <td>0.304612</td>\n",
       "      <td>0.297047</td>\n",
       "      <td>4</td>\n",
       "      <td>0.496207</td>\n",
       "      <td>0.591138</td>\n",
       "      <td>0.237825</td>\n",
       "      <td>0.515783</td>\n",
       "      <td>0</td>\n",
       "      <td>0.392656</td>\n",
       "    </tr>\n",
       "    <tr>\n",
       "      <th>4</th>\n",
       "      <td>0.551446</td>\n",
       "      <td>0.546249</td>\n",
       "      <td>0.639758</td>\n",
       "      <td>0.446395</td>\n",
       "      <td>0.114510</td>\n",
       "      <td>0.534638</td>\n",
       "      <td>2</td>\n",
       "      <td>0.417127</td>\n",
       "      <td>0.494066</td>\n",
       "      <td>0.135375</td>\n",
       "      <td>0.554259</td>\n",
       "      <td>1</td>\n",
       "      <td>0.557991</td>\n",
       "    </tr>\n",
       "  </tbody>\n",
       "</table>\n",
       "</div>"
      ],
      "text/plain": [
       "         x1        x2        x3        x4        x5        x6  x7        x8  \\\n",
       "0  0.726424  0.510547  0.311269  0.581512  0.288689  0.487385   1  0.559048   \n",
       "1  0.691848  0.491468  0.335242  0.198215  0.166041  0.506033   1  0.310271   \n",
       "2  0.325188  0.459393  0.579688  0.334578  0.621109  0.439405   1  0.143214   \n",
       "3  0.393721  0.310116  0.445820  0.588169  0.304612  0.297047   4  0.496207   \n",
       "4  0.551446  0.546249  0.639758  0.446395  0.114510  0.534638   2  0.417127   \n",
       "\n",
       "         x9       x10       x11  x12       x13  \n",
       "0  0.539837  0.866377  0.395649    0  0.722285  \n",
       "1  0.625458  0.457607  0.373717    0  0.688380  \n",
       "2  0.723542  0.433482  0.258812    1  0.328490  \n",
       "3  0.591138  0.237825  0.515783    0  0.392656  \n",
       "4  0.494066  0.135375  0.554259    1  0.557991  "
      ]
     },
     "execution_count": 372,
     "metadata": {},
     "output_type": "execute_result"
    }
   ],
   "source": [
    "# Scale your features\n",
    "# You can try both standardscaler and minmaxscaler and see which works better\n",
    "print(np.max(X['x4']))\n",
    "print(np.min(X['x4']))\n",
    "print(np.median(X['x4']))\n",
    "print(pd.Series(X['x4']).describe())\n",
    "print(len(X['x4'][X['x4']< -100]))\n",
    "min_max_scaler = MinMaxScaler(feature_range=(0, 1))\n",
    "X[num_cols] = min_max_scaler.fit_transform(X[num_cols])\n",
    "\n",
    "\n",
    "#print(X['x4'].shape)\n",
    "print(X.shape)\n",
    "print(y.shape)\n",
    "X.head()"
   ]
  },
  {
   "cell_type": "markdown",
   "id": "e82f9ee0-f87c-4750-a328-dbdc9071fb07",
   "metadata": {},
   "source": [
    "## Feature selection"
   ]
  },
  {
   "cell_type": "code",
   "execution_count": 373,
   "id": "c62b35ae-3de7-4044-a59f-831a519ba36f",
   "metadata": {},
   "outputs": [
    {
     "name": "stdout",
     "output_type": "stream",
     "text": [
      "<class 'pandas.core.frame.DataFrame'>\n",
      "Selected features: Index(['x1', 'x2', 'x4', 'x5', 'x7', 'x8', 'x10', 'x11', 'x12', 'x13'], dtype='object')\n"
     ]
    },
    {
     "data": {
      "text/html": [
       "<div>\n",
       "<style scoped>\n",
       "    .dataframe tbody tr th:only-of-type {\n",
       "        vertical-align: middle;\n",
       "    }\n",
       "\n",
       "    .dataframe tbody tr th {\n",
       "        vertical-align: top;\n",
       "    }\n",
       "\n",
       "    .dataframe thead th {\n",
       "        text-align: right;\n",
       "    }\n",
       "</style>\n",
       "<table border=\"1\" class=\"dataframe\">\n",
       "  <thead>\n",
       "    <tr style=\"text-align: right;\">\n",
       "      <th></th>\n",
       "      <th>x1</th>\n",
       "      <th>x2</th>\n",
       "      <th>x4</th>\n",
       "      <th>x5</th>\n",
       "      <th>x7</th>\n",
       "      <th>x8</th>\n",
       "      <th>x10</th>\n",
       "      <th>x11</th>\n",
       "      <th>x12</th>\n",
       "      <th>x13</th>\n",
       "    </tr>\n",
       "  </thead>\n",
       "  <tbody>\n",
       "    <tr>\n",
       "      <th>0</th>\n",
       "      <td>0.726424</td>\n",
       "      <td>0.510547</td>\n",
       "      <td>0.581512</td>\n",
       "      <td>0.288689</td>\n",
       "      <td>1.0</td>\n",
       "      <td>0.559048</td>\n",
       "      <td>0.866377</td>\n",
       "      <td>0.395649</td>\n",
       "      <td>0.0</td>\n",
       "      <td>0.722285</td>\n",
       "    </tr>\n",
       "    <tr>\n",
       "      <th>1</th>\n",
       "      <td>0.691848</td>\n",
       "      <td>0.491468</td>\n",
       "      <td>0.198215</td>\n",
       "      <td>0.166041</td>\n",
       "      <td>1.0</td>\n",
       "      <td>0.310271</td>\n",
       "      <td>0.457607</td>\n",
       "      <td>0.373717</td>\n",
       "      <td>0.0</td>\n",
       "      <td>0.688380</td>\n",
       "    </tr>\n",
       "    <tr>\n",
       "      <th>2</th>\n",
       "      <td>0.325188</td>\n",
       "      <td>0.459393</td>\n",
       "      <td>0.334578</td>\n",
       "      <td>0.621109</td>\n",
       "      <td>1.0</td>\n",
       "      <td>0.143214</td>\n",
       "      <td>0.433482</td>\n",
       "      <td>0.258812</td>\n",
       "      <td>1.0</td>\n",
       "      <td>0.328490</td>\n",
       "    </tr>\n",
       "    <tr>\n",
       "      <th>3</th>\n",
       "      <td>0.393721</td>\n",
       "      <td>0.310116</td>\n",
       "      <td>0.588169</td>\n",
       "      <td>0.304612</td>\n",
       "      <td>4.0</td>\n",
       "      <td>0.496207</td>\n",
       "      <td>0.237825</td>\n",
       "      <td>0.515783</td>\n",
       "      <td>0.0</td>\n",
       "      <td>0.392656</td>\n",
       "    </tr>\n",
       "    <tr>\n",
       "      <th>4</th>\n",
       "      <td>0.551446</td>\n",
       "      <td>0.546249</td>\n",
       "      <td>0.446395</td>\n",
       "      <td>0.114510</td>\n",
       "      <td>2.0</td>\n",
       "      <td>0.417127</td>\n",
       "      <td>0.135375</td>\n",
       "      <td>0.554259</td>\n",
       "      <td>1.0</td>\n",
       "      <td>0.557991</td>\n",
       "    </tr>\n",
       "  </tbody>\n",
       "</table>\n",
       "</div>"
      ],
      "text/plain": [
       "         x1        x2        x4        x5   x7        x8       x10       x11  \\\n",
       "0  0.726424  0.510547  0.581512  0.288689  1.0  0.559048  0.866377  0.395649   \n",
       "1  0.691848  0.491468  0.198215  0.166041  1.0  0.310271  0.457607  0.373717   \n",
       "2  0.325188  0.459393  0.334578  0.621109  1.0  0.143214  0.433482  0.258812   \n",
       "3  0.393721  0.310116  0.588169  0.304612  4.0  0.496207  0.237825  0.515783   \n",
       "4  0.551446  0.546249  0.446395  0.114510  2.0  0.417127  0.135375  0.554259   \n",
       "\n",
       "   x12       x13  \n",
       "0  0.0  0.722285  \n",
       "1  0.0  0.688380  \n",
       "2  1.0  0.328490  \n",
       "3  0.0  0.392656  \n",
       "4  1.0  0.557991  "
      ]
     },
     "execution_count": 373,
     "metadata": {},
     "output_type": "execute_result"
    }
   ],
   "source": [
    "# You could try to apply SelectKBest class to extract the most useful features (this is optional but MIGHT improve accuracy)\n",
    "# Remove whichever features that are not useful\n",
    "\n",
    "selector = SelectKBest(chi2).fit(X, y)\n",
    "\n",
    "X_new = selector.transform(X)\n",
    "selected_feature_names = X.columns[selector.get_support()]\n",
    "X_new = pd.DataFrame(selector.transform(X), columns=selected_feature_names)\n",
    "print(type(X_new))\n",
    "print(\"Selected features:\", selected_feature_names)\n",
    "X = X_new\n",
    "X.head()"
   ]
  },
  {
   "cell_type": "markdown",
   "id": "7eb1dcc6-5f53-478d-9660-95368b4db961",
   "metadata": {},
   "source": [
    "## Split your data to train and test set"
   ]
  },
  {
   "cell_type": "code",
   "execution_count": 374,
   "id": "2ed4f88f",
   "metadata": {},
   "outputs": [],
   "source": [
    "# Train, test, split\n",
    "X_train, X_test, y_train, y_test = train_test_split(X, y, train_size=0.9, random_state = 0)\n"
   ]
  },
  {
   "cell_type": "markdown",
   "id": "b84cbcb0-c8ff-4d43-ab10-6c1e7d3aa0be",
   "metadata": {},
   "source": [
    "## Fit the model\n",
    "\n",
    "* You can try models other than the models listed below\n",
    "* You can try different hyperparameters\n",
    "* Evaluate your model using cross-validation"
   ]
  },
  {
   "cell_type": "code",
   "execution_count": 375,
   "id": "c68ffb0a",
   "metadata": {
    "code_folding": [
     0
    ]
   },
   "outputs": [
    {
     "name": "stdout",
     "output_type": "stream",
     "text": [
      "0.5\n",
      "0.45 accuracy with a standard deviation of 0.07\n"
     ]
    }
   ],
   "source": [
    "# Try linear SVM classifier\n",
    "linear = SVC(kernel='linear', C=0.5).fit(X_train, y_train)\n",
    "print(linear.score(X_test,y_test))\n",
    "\n",
    "# Evaluate using cross-validation\n",
    "scores = cross_val_score(linear,X_test,y_test,cv=5)\n",
    "print(\"%0.2f accuracy with a standard deviation of %0.2f\" % (scores.mean(), scores.std()))"
   ]
  },
  {
   "cell_type": "code",
   "execution_count": 376,
   "id": "d53115ce",
   "metadata": {
    "code_folding": [
     0
    ]
   },
   "outputs": [
    {
     "name": "stdout",
     "output_type": "stream",
     "text": [
      "0.40816326530612246\n",
      "0.40 accuracy with a standard deviation of 0.13\n"
     ]
    },
    {
     "name": "stderr",
     "output_type": "stream",
     "text": [
      "/Library/Frameworks/Python.framework/Versions/3.11/lib/python3.11/site-packages/sklearn/model_selection/_split.py:737: UserWarning: The least populated class in y has only 9 members, which is less than n_splits=10.\n",
      "  warnings.warn(\n"
     ]
    }
   ],
   "source": [
    "#Try decision tree classifier\n",
    "decision_tree = DecisionTreeClassifier(criterion = \"gini\").fit(X_train, y_train)\n",
    "print(decision_tree.score(X_test,y_test))\n",
    "\n",
    "# Evaluate using cross-validation\n",
    "scores = cross_val_score(decision_tree,X_test,y_test,cv=10)\n",
    "print(\"%0.2f accuracy with a standard deviation of %0.2f\" % (scores.mean(), scores.std()))"
   ]
  },
  {
   "cell_type": "code",
   "execution_count": 377,
   "id": "01507d90",
   "metadata": {},
   "outputs": [
    {
     "name": "stdout",
     "output_type": "stream",
     "text": [
      "0.6122448979591837\n"
     ]
    },
    {
     "name": "stderr",
     "output_type": "stream",
     "text": [
      "/Library/Frameworks/Python.framework/Versions/3.11/lib/python3.11/site-packages/sklearn/model_selection/_split.py:737: UserWarning: The least populated class in y has only 9 members, which is less than n_splits=10.\n",
      "  warnings.warn(\n"
     ]
    },
    {
     "name": "stdout",
     "output_type": "stream",
     "text": [
      "0.59 accuracy with a standard deviation of 0.10\n"
     ]
    }
   ],
   "source": [
    "#Try random forest classifier\n",
    "random_forest = RandomForestClassifier().fit(X_train, y_train)\n",
    "print(random_forest.score(X_test,y_test))\n",
    "\n",
    "scores = cross_val_score(random_forest,X_test,y_test,cv=10)\n",
    "print(\"%0.2f accuracy with a standard deviation of %0.2f\" % (scores.mean(), scores.std()))"
   ]
  },
  {
   "cell_type": "code",
   "execution_count": null,
   "id": "3b68b7fe",
   "metadata": {},
   "outputs": [],
   "source": [
    "# Use your best model to predict the labels for the evaluation set\n",
    "\n",
    "y_pred = best_model.predict(X_eval)\n",
    "\n",
    "print(y_pred)\n"
   ]
  },
  {
   "cell_type": "code",
   "execution_count": 599,
   "id": "e6eb50c1",
   "metadata": {},
   "outputs": [],
   "source": [
    "# Save your predictions to a csv and upload it to canvas\n",
    "\n",
    "pd.DataFrame(y_pred).to_csv(\"file.txt\",index = False,header=False)"
   ]
  },
  {
   "cell_type": "code",
   "execution_count": null,
   "id": "fab232a0",
   "metadata": {},
   "outputs": [],
   "source": []
  },
  {
   "cell_type": "code",
   "execution_count": null,
   "id": "8a64e303",
   "metadata": {},
   "outputs": [],
   "source": []
  }
 ],
 "metadata": {
  "kernelspec": {
   "display_name": "Python 3 (ipykernel)",
   "language": "python",
   "name": "python3"
  },
  "language_info": {
   "codemirror_mode": {
    "name": "ipython",
    "version": 3
   },
   "file_extension": ".py",
   "mimetype": "text/x-python",
   "name": "python",
   "nbconvert_exporter": "python",
   "pygments_lexer": "ipython3",
   "version": "3.11.5"
  },
  "varInspector": {
   "cols": {
    "lenName": 16,
    "lenType": 16,
    "lenVar": 40
   },
   "kernels_config": {
    "python": {
     "delete_cmd_postfix": "",
     "delete_cmd_prefix": "del ",
     "library": "var_list.py",
     "varRefreshCmd": "print(var_dic_list())"
    },
    "r": {
     "delete_cmd_postfix": ") ",
     "delete_cmd_prefix": "rm(",
     "library": "var_list.r",
     "varRefreshCmd": "cat(var_dic_list()) "
    }
   },
   "types_to_exclude": [
    "module",
    "function",
    "builtin_function_or_method",
    "instance",
    "_Feature"
   ],
   "window_display": false
  }
 },
 "nbformat": 4,
 "nbformat_minor": 5
}
